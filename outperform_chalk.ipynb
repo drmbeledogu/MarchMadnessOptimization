{
 "cells": [
  {
   "cell_type": "markdown",
   "id": "3a28f118-6592-4fac-8e43-1b577378b9fc",
   "metadata": {},
   "source": [
    "## Outperform Chalk Notebook\n",
    "\n",
    "This notebook carries out the asynchronous algorithm described in the Making Sense of the Madness: A Bilevel Programming Approach to Bracket Generation paper. "
   ]
  },
  {
   "cell_type": "markdown",
   "id": "570c8e27-3be7-4446-97a9-5a082fb07080",
   "metadata": {},
   "source": [
    "### Import Libraries"
   ]
  },
  {
   "cell_type": "code",
   "execution_count": 1,
   "id": "659b43eb",
   "metadata": {},
   "outputs": [],
   "source": [
    "import pandas as pd\n",
    "import numpy as np\n",
    "import os\n",
    "import time\n",
    "import random\n",
    "import pickle\n",
    "\n",
    "# MILP Optimization API\n",
    "from pyscipopt import Model\n",
    "\n",
    "# Genetic algorithm package\n",
    "import leap_ec\n",
    "from leap_ec.decoder import IdentityDecoder\n",
    "from leap_ec.representation import Representation\n",
    "from leap_ec import ops\n",
    "from leap_ec.real_rep.ops import mutate_gaussian\n",
    "from leap_ec.real_rep.initializers import create_real_vector\n",
    "from leap_ec.problem import FunctionProblem\n",
    "from leap_ec.distrib import DistributedIndividual, asynchronous\n",
    "from leap_ec.distrib.probe import log_worker_location\n",
    "\n",
    "# Asynchronous or distributed workers\n",
    "from dask.distributed import Client, LocalCluster\n",
    "\n",
    "#Import helper functions\n",
    "from opt_functions import (\n",
    "    opt_bracket,\n",
    "    get_results,\n",
    "    brack_score,\n",
    "    sigmoid\n",
    ")"
   ]
  },
  {
   "cell_type": "markdown",
   "id": "8d390e9f-88a7-4939-9878-095e0cf9f704",
   "metadata": {},
   "source": [
    "### Import relevant data\n",
    "\n",
    "We'll need to import the data that will be used during the optimization. This includes:\n",
    "* `data_frames`: This dictionary contains a dataframe of important data for each year. The information contained in these dataframes for each year are:\n",
    "    * Probabilistic projections for each team in each round\n",
    "    * Matrix representing the actual outcome of the tournament\n",
    "    * Matrix representing the chalk outcome of the tournament\n",
    "* `chalk_total_scores`: This dictionary contains the scores for the chalk brackets to be used during fitness function evaluation.\n",
    "* `best_d`: This is the best distance vector from a previous run. Provides a starting point for the optimization. This is not required; a rendomly initialized distance vector can be used."
   ]
  },
  {
   "cell_type": "code",
   "execution_count": 2,
   "id": "24fd3074",
   "metadata": {},
   "outputs": [
    {
     "name": "stdout",
     "output_type": "stream",
     "text": [
      "[0.9992638406776697, 0.9093473957915438, 0.928538915959301, 0.9153074542915343, 0.8261114325054147, 0.9826968464863475]\n"
     ]
    }
   ],
   "source": [
    "# Import relevant data for optimization\n",
    "\n",
    "years = [\"2014\", \"2015\", \"2016\", \"2017\", \"2018\", \"2019\", \"2021\", \"2022\", \"2023\"]  #Years to be analyzied\n",
    "\n",
    "# Import data frames with probabilities, chalk, and actual outcomes\n",
    "cwd = os.getcwd()\n",
    "file_path = \"\\Data\\\\final_bracket_data\\\\\"\n",
    "data_frames = {}\n",
    "for year in years:\n",
    "    data_frames[year] = pd.read_csv(cwd + file_path + year + \".csv\")\n",
    "\n",
    "#Record the scores for the chalk brackets\n",
    "chalk_total_scores = {\"2014\": 690,\n",
    "                \"2015\": 860,\n",
    "                \"2016\": 990,\n",
    "                \"2017\": 700,\n",
    "                \"2018\": 1140,\n",
    "                \"2019\": 950,\n",
    "                \"2021\": 870,\n",
    "                \"2022\": 790,\n",
    "                \"2023\": 520}\n",
    "\n",
    "# Extract the most recent best distances\n",
    "with open('best_d_final.pkl', 'rb') as f:\n",
    "    best_d = pickle.load(f)\n",
    "f.close()\n",
    "\n",
    "#Set up bounds for individual initialization using best distance vector as baseline\n",
    "init_bounds = [(d - 0.001, d + 0.001) for d in best_d ]\n",
    "print(best_d)"
   ]
  },
  {
   "cell_type": "markdown",
   "id": "0b0223c8-392d-44c0-a6ca-e04383ebcbbe",
   "metadata": {},
   "source": [
    "### Define fitness function\n",
    "\n",
    "We need to define the fitness function that will be used for evaluation in the genetic algorithm. THere are several options in the cell below:\n",
    "* `fitness_avg()`: This calculates the average score of the brackets generated each year. More formally this is: $\\frac{1}{K}\\sum_{k=1}^{K} S(\\mathbf{X}_{k}^{*})$. This fitness function completely ignores the idea of outperforming chalk\n",
    "* `fitness_num_better()`: This fitness function evaluates the number of times that a generated bracket outperforms chalk. More formally $\\sum_{k=1}^{K} g\\left(\\mathbf{X}_k^*\\right) = \n",
    "\\begin{cases} \n",
    "1, & \\text{if } S\\left(\\mathbf{X}_k^*\\right) \\geq S\\left(\\mathbf{C}_k\\right) \\\\\n",
    "0, & \\text{otherwise}\n",
    "\\end{cases}$. This is what we're looking for but given the small dataset, it is too discrete and makes it challenging to optimize.\n",
    "* `fitness_avg_diff()`: This fitness function attempts to add more topology to the search space. It calculates the average outperformance in points over the years. More formally: $\\frac{1}{K}\\sum_{k=1}^{K} S(\\mathbf{X}_{k}^{*}) - S(\\mathbf{C}_{k}^{*})$. This method provides more topology but does not accomplish the true goal of maximizing the number of times we outperform chalk.\n",
    "* `fitness_sigmoid`(): This is the final selected fitness function. This fitness function provides the topology needed while also putting an emphasis on outperforming chalk by passing the difference through a sigmoid function. More formally $$\\sum_{k=1}^{K} \\frac{1}{1 + e^{-\\frac{\\left(S\\left(\\mathbf{X}_k^*\\right) - S\\left(\\mathbf{C}_k\\right)\\right)}{w}}}$$. "
   ]
  },
  {
   "cell_type": "code",
   "execution_count": 8,
   "id": "024746c3",
   "metadata": {},
   "outputs": [],
   "source": [
    "# Genetic algorithm fitness functions\n",
    "def fitness_avg(phenome: list[float]) -> float:\n",
    "    \"\"\"\n",
    "    Calculate fitness using average score\n",
    "\n",
    "    Parameters\n",
    "    ----------\n",
    "    phenome : list[float]\n",
    "        distance vector\n",
    "\n",
    "    Returns\n",
    "    -------\n",
    "    float\n",
    "        fitness score\n",
    "    \"\"\"\n",
    "    fitness = 0\n",
    "    for year in data_frames.keys():\n",
    "        output, x = opt_bracket(data_frames[year], phenome)\n",
    "        results = get_results(output, x)\n",
    "        fitness += sum(brack_score(results, data_frames[year]))\n",
    "    return fitness/len(data_frames)\n",
    "\n",
    "def fitness_num_better(phenome: list[float]) -> int:\n",
    "    \"\"\"\n",
    "    Calculate fitness using number of times outperforming chalk\n",
    "\n",
    "    Parameters\n",
    "    ----------\n",
    "    phenome : list[float]\n",
    "        distance vector\n",
    "\n",
    "    Returns\n",
    "    -------\n",
    "    int\n",
    "        fitness score\n",
    "    \"\"\"\n",
    "    fitness = 0\n",
    "    for year in data_frames.keys():\n",
    "        output, x = opt_bracket(data_frames[year], phenome)\n",
    "        results = get_results(output, x)\n",
    "        if sum(brack_score(results, data_frames[year])) > chalk_total_scores[year]:\n",
    "            fitness+=1\n",
    "    return fitness\n",
    "\n",
    "def fitness_avg_diff(phenome: list[float]) -> float:\n",
    "    \"\"\"\n",
    "    Calculate fitness using average score aboove chalk\n",
    "\n",
    "    Parameters\n",
    "    ----------\n",
    "    phenome : list[float]\n",
    "        distance vector\n",
    "\n",
    "    Returns\n",
    "    -------\n",
    "    float\n",
    "        fitness score\n",
    "    \"\"\"\n",
    "    fitness = 0\n",
    "    for year in data_frames.keys():\n",
    "        output, x = opt_bracket(data_frames[year], phenome)\n",
    "        results = get_results(output, x)\n",
    "        fitness += sum(brack_score(results, data_frames[year])) - chalk_total_scores[year]\n",
    "    return fitness/len(data_frames)\n",
    "\n",
    "def fitness_sigmoid(phenome: list[float]) -> float:\n",
    "    \"\"\"\n",
    "    Calculate fitness using sigmoid difference above chalk\n",
    "\n",
    "    Parameters\n",
    "    ----------\n",
    "    phenome : list[float]\n",
    "        distance vector\n",
    "\n",
    "    Returns\n",
    "    -------\n",
    "    float\n",
    "        fitness score\n",
    "    \"\"\"\n",
    "    fitness = 0\n",
    "    for year in data_frames.keys():\n",
    "        output, x = opt_bracket(data_frames[year], phenome)\n",
    "        results = get_results(output, x)\n",
    "        diff = sum(brack_score(results, data_frames[year])) - chalk_total_scores[year]\n",
    "        fitness += sigmoid(diff, 25)\n",
    "    return fitness"
   ]
  },
  {
   "cell_type": "markdown",
   "id": "fcf75e08-159f-40eb-b95d-c951f442a951",
   "metadata": {},
   "source": [
    "### Asynchronous genetic algorithm\n",
    "\n",
    "We now carry out the asynchronous genetic algorithm. The algorithm has the following specification:\n",
    "* Max births: 2048\n",
    "* Population size: 16 individuals\n",
    "* Fitness function: Sigmoid\n",
    "* Parent selection: Tournament selection\n",
    "* Crossover: Uniform crossover probability across all elements\n",
    "* Mutation: Addition of a gaussian random variable two around two elements\n",
    "\n",
    "Results of the run are printed out to csv file named `test.csv`"
   ]
  },
  {
   "cell_type": "code",
   "execution_count": 9,
   "id": "420dec7b",
   "metadata": {},
   "outputs": [
    {
     "name": "stdout",
     "output_type": "stream",
     "text": [
      "Solve time was:3546.7594076000387 seconds\n"
     ]
    }
   ],
   "source": [
    "#Asynchronous distributed genetic algorithm\n",
    "\n",
    "MAX_BIRTHS = 2048\n",
    "INIT_POP_SIZE = 16\n",
    "POP_SIZE = 16\n",
    "file = open(\"test.csv\", \"w\")\n",
    "\n",
    "tic = time.perf_counter()\n",
    "with Client(LocalCluster()) as client:\n",
    "    final_pop = asynchronous.steady_state(client, # dask client\n",
    "                                  max_births=MAX_BIRTHS,\n",
    "                                  init_pop_size=INIT_POP_SIZE,\n",
    "                                  pop_size=POP_SIZE,\n",
    "\n",
    "                                  representation=Representation(\n",
    "                                  decoder=IdentityDecoder(),             # Genotype and phenotype are the same for this task\n",
    "                                  #initialize=create_real_vector(bounds=[(0.8, 1)]*6),  # Initial genomes are random gaussian\n",
    "                                  initialize=create_real_vector(bounds=init_bounds),\n",
    "                                  individual_cls=DistributedIndividual),\n",
    "\n",
    "                                  problem=FunctionProblem(fitness_sigmoid, maximize=True),\n",
    "\n",
    "                                  offspring_pipeline=[ops.tournament_selection, # Select parents via tournament_selection selection\n",
    "                                  ops.clone,                                    # Copy them (just to be safe)\n",
    "                                  ops.uniform_crossover,                         # Crossover each element with probability 0.2\n",
    "                                  mutate_gaussian(std=.1/3, expected_num_mutations=2, hard_bounds=(0.8, 1)),                 # Basic mutation: gaussian mutation        \n",
    "                                  ops.pool(size=1)             # Collect offspring into a new population\n",
    "                                  ],\n",
    "                                    \n",
    "                                  evaluated_probe=log_worker_location(file))\n",
    "\n",
    "toc = time.perf_counter()\n",
    "file.close()\n",
    "client.shutdown()\n",
    "print(\"Solve time was:{} seconds\".format(toc-tic))"
   ]
  },
  {
   "cell_type": "markdown",
   "id": "0e012dfb-713a-41f7-a1df-d731093a4745",
   "metadata": {},
   "source": [
    "### Results\n",
    "\n",
    "We now retrieve the best individual from the final population and print the distance vector and its fitnessz"
   ]
  },
  {
   "cell_type": "code",
   "execution_count": 6,
   "id": "e1beba6f-0a03-45e6-9a24-4402c8e1fd8e",
   "metadata": {},
   "outputs": [
    {
     "name": "stdout",
     "output_type": "stream",
     "text": [
      "0\n",
      "[0.99926384 0.9093474  0.92853892 0.91530745 0.82611143 0.98269685]\n",
      "6.484679406331287\n",
      "7\n"
     ]
    }
   ],
   "source": [
    "# Retrieve the best individual\n",
    "max_ind = [ind.fitness for ind in final_pop].index(max([ind.fitness for ind in final_pop]))\n",
    "print(max_ind)\n",
    "ga_best_d = final_pop[max_ind].genome\n",
    "print(ga_best_d)\n",
    "print(final_pop[max_ind].fitness)\n",
    "print(fitness_num_better(final_pop[max_ind].genome))"
   ]
  },
  {
   "cell_type": "markdown",
   "id": "fe04fd67-c0c0-44a8-8a0c-e3cc600df0ef",
   "metadata": {},
   "source": [
    "### Comparison to chalk\n",
    "\n",
    "Now let's compare the brackets generated by this distance vector to chalk"
   ]
  },
  {
   "cell_type": "code",
   "execution_count": 24,
   "id": "dcd98b67",
   "metadata": {},
   "outputs": [
    {
     "name": "stdout",
     "output_type": "stream",
     "text": [
      "2014:\n",
      "d score is: 780.0\n",
      "chalk score is: 690\n",
      "\n",
      "\n",
      "2015:\n",
      "d score is: 870.0\n",
      "chalk score is: 860\n",
      "\n",
      "\n",
      "2016:\n",
      "d score is: 1050.0\n",
      "chalk score is: 990\n",
      "\n",
      "\n",
      "2017:\n",
      "d score is: 860.0\n",
      "chalk score is: 700\n",
      "\n",
      "\n",
      "2018:\n",
      "d score is: 710.0\n",
      "chalk score is: 1140\n",
      "\n",
      "\n",
      "2019:\n",
      "d score is: 1250.0\n",
      "chalk score is: 950\n",
      "\n",
      "\n",
      "2021:\n",
      "d score is: 1020.0\n",
      "chalk score is: 870\n",
      "\n",
      "\n",
      "2022:\n",
      "d score is: 1020.0\n",
      "chalk score is: 790\n",
      "\n",
      "\n",
      "2023:\n",
      "d score is: 510.0\n",
      "chalk score is: 520\n",
      "\n",
      "\n"
     ]
    }
   ],
   "source": [
    "# See performance\n",
    "d = best_d\n",
    "round_scores = []\n",
    "chalk_round_scores = []\n",
    "for year in years:\n",
    "    output, x = opt_bracket(data_frames[year], d)\n",
    "    results = get_results(output, x)\n",
    "    print(year + \":\")\n",
    "    d_scores = brack_score(results, data_frames[year])\n",
    "    chalk_scores = brack_score(data_frames[year].iloc[:, 14:20], data_frames[year])\n",
    "    print(f\"d score is: {np.round(sum(d_scores))}\")\n",
    "    print(f\"chalk score is: {chalk_total_scores[year]}\")\n",
    "    print('\\n')\n",
    "    round_scores.append(d_scores)\n",
    "    chalk_round_scores.append(chalk_scores)"
   ]
  },
  {
   "cell_type": "code",
   "execution_count": 27,
   "id": "0c75e8f6-b695-435f-a1eb-94e0e1a66159",
   "metadata": {},
   "outputs": [
    {
     "data": {
      "text/plain": [
       "array([[  10.,   40.,   40.,    0.,    0.,    0.],\n",
       "       [  10.,   40.,  -40.,    0.,    0.,    0.],\n",
       "       [   0.,   20.,  -40.,   80.,    0.,    0.],\n",
       "       [   0.,    0.,    0.,    0.,  160.,    0.],\n",
       "       [  10.,   40.,    0.,    0., -160., -320.],\n",
       "       [  20.,  -80.,  -40.,   80.,    0.,  320.],\n",
       "       [  10.,   20.,   40.,   80.,    0.,    0.],\n",
       "       [ -10.,  -40.,  -40.,    0.,    0.,  320.],\n",
       "       [ -10.,  -40.,   40.,    0.,    0.,    0.]])"
      ]
     },
     "execution_count": 27,
     "metadata": {},
     "output_type": "execute_result"
    }
   ],
   "source": [
    "np.round(round_scores) - np.round(chalk_round_scores)"
   ]
  }
 ],
 "metadata": {
  "kernelspec": {
   "display_name": "Python 3 (ipykernel)",
   "language": "python",
   "name": "python3"
  },
  "language_info": {
   "codemirror_mode": {
    "name": "ipython",
    "version": 3
   },
   "file_extension": ".py",
   "mimetype": "text/x-python",
   "name": "python",
   "nbconvert_exporter": "python",
   "pygments_lexer": "ipython3",
   "version": "3.11.5"
  }
 },
 "nbformat": 4,
 "nbformat_minor": 5
}
